{
 "cells": [
  {
   "cell_type": "code",
   "execution_count": 1,
   "metadata": {},
   "outputs": [],
   "source": [
    "%matplotlib inline\n",
    "%reload_ext autoreload\n",
    "%autoreload 2\n",
    "\n",
    "import os\n",
    "import sys\n",
    "import numpy as np\n",
    "import skimage.io as io\n",
    "import matplotlib.pyplot as plt\n",
    "from matplotlib.patches import Rectangle\n",
    "from IPython.display import display, clear_output\n",
    "import ipywidgets\n",
    "from random import shuffle\n",
    "import ipywidgets as widgets\n",
    "import scipy\n",
    "import pylab\n",
    "pylab.rcParams['figure.figsize'] = (10.0, 8.0)\n",
    "import matplotlib.patches as mpatches\n",
    "import os.path as osp\n",
    "import pickle\n",
    "import json\n",
    "import random\n",
    "import os.path as osp\n",
    "\n",
    "from PIL import Image"
   ]
  },
  {
   "cell_type": "code",
   "execution_count": 3,
   "metadata": {},
   "outputs": [],
   "source": [
    "CLEVR_ROOT= '/home/arjunakula/Dropbox/My_UCLA_docs_from_2016_sept/PhD_Research/after_summer_2019/EMNLP2020_Mila_mygithub/neurips2021/'\n",
    "\n",
    "train_clevr_refs = json.load(open(osp.join(CLEVR_ROOT,'data/clevr_ref+_1.0/refexps/clevr_ref+_train_refexps.json'), 'r'))\n",
    "val_clevr_refs = json.load(open(osp.join(CLEVR_ROOT,'data/clevr_ref+_1.0/refexps/clevr_ref+_val_refexps.json'), 'r'))\n"
   ]
  },
  {
   "cell_type": "code",
   "execution_count": 17,
   "metadata": {},
   "outputs": [],
   "source": [
    "train_SingleObject_clevr_refs = {}\n",
    "train_SingleObject_clevr_refs['info'] = train_clevr_refs['info']\n",
    "train_SingleObject_clevr_refs['refexps'] = []\n",
    "for ref in train_clevr_refs['refexps']:\n",
    "    if len(ref['program'][-1]['_output']) == 1:\n",
    "        train_SingleObject_clevr_refs['refexps'].append(ref)\n",
    "\n",
    "\n",
    "val_SingleObject_clevr_refs = {}\n",
    "val_SingleObject_clevr_refs['info'] = val_clevr_refs['info']\n",
    "val_SingleObject_clevr_refs['refexps'] = []\n",
    "for ref in val_clevr_refs['refexps']:\n",
    "    if len(ref['program'][-1]['_output']) == 1:\n",
    "        val_SingleObject_clevr_refs['refexps'].append(ref)\n",
    "    \n"
   ]
  },
  {
   "cell_type": "code",
   "execution_count": 23,
   "metadata": {},
   "outputs": [],
   "source": [
    "json.dump(train_SingleObject_clevr_refs,open(osp.join(CLEVR_ROOT,'data/clevr_ref+_1.0/refexps/clevr_ref+_train_refexps_singleObject.json'), 'w'))\n",
    "json.dump(val_SingleObject_clevr_refs,open(osp.join(CLEVR_ROOT,'data/clevr_ref+_1.0/refexps/clevr_ref+_val_refexps_singleObject.json'), 'w'))"
   ]
  },
  {
   "cell_type": "code",
   "execution_count": 7,
   "metadata": {},
   "outputs": [
    {
     "name": "stdout",
     "output_type": "stream",
     "text": [
      "222569 222569\n",
      "47731 47731\n"
     ]
    }
   ],
   "source": [
    "# generate tiny (1% data) split\n",
    "t_refs = json.load(open(osp.join(CLEVR_ROOT,'data/clevr_ref+_1.0/refexps/clevr_ref+_train_refexps_singleObject.json'), 'r'))\n",
    "v_refs = json.load(open(osp.join(CLEVR_ROOT,'data/clevr_ref+_1.0/refexps/clevr_ref+_val_refexps_singleObject.json'), 'r'))\n",
    "\n",
    "PERCENTAGE = 1 #1%, 10%, 30%, 50%\n",
    "\n",
    "tsmall_refs = {}\n",
    "tsmall_refs['info'] = t_refs['info']\n",
    "tsmall_refs['refexps'] = []\n",
    "for ref in t_refs['refexps']:\n",
    "    if len(ref['program'][-1]['_output']) == 1:\n",
    "        tsmall_refs['refexps'].append(ref)\n",
    "\n",
    "\n",
    "vsmall_refs = {}\n",
    "vsmall_refs['info'] = v_refs['info']\n",
    "vsmall_refs['refexps'] = []\n",
    "for ref in v_refs['refexps']:\n",
    "    if len(ref['program'][-1]['_output']) == 1:\n",
    "        vsmall_refs['refexps'].append(ref)\n",
    "\n",
    "#print(len(tsmall_refs['refexps']), len(t_refs['refexps']))       \n",
    "#print(len(vsmall_refs['refexps']), len(v_refs['refexps']))\n",
    "        \n",
    "#json.dump(tsmall_refs,open(osp.join(CLEVR_ROOT,'data/clevr_ref+_1.0/refexps/clevr_ref+_train_refexps_singleObject_tiny.json'), 'w'))\n",
    "#json.dump(vsmall_refs,open(osp.join(CLEVR_ROOT,'data/clevr_ref+_1.0/refexps/clevr_ref+_val_refexps_singleObject_tiny.json'), 'w'))"
   ]
  },
  {
   "cell_type": "code",
   "execution_count": null,
   "metadata": {},
   "outputs": [],
   "source": []
  }
 ],
 "metadata": {
  "kernelspec": {
   "display_name": "Python 3",
   "language": "python",
   "name": "python3"
  },
  "language_info": {
   "codemirror_mode": {
    "name": "ipython",
    "version": 3
   },
   "file_extension": ".py",
   "mimetype": "text/x-python",
   "name": "python",
   "nbconvert_exporter": "python",
   "pygments_lexer": "ipython3",
   "version": "3.7.4"
  }
 },
 "nbformat": 4,
 "nbformat_minor": 2
}
